{
 "cells": [
  {
   "cell_type": "code",
   "execution_count": 1,
   "metadata": {},
   "outputs": [],
   "source": [
    "import pandas as pd\n",
    "from valentine import valentine_match, valentine_metrics\n",
    "from valentine.algorithms import Coma\n",
    "from pyxtension.streams import stream"
   ]
  },
  {
   "cell_type": "code",
   "execution_count": 6,
   "metadata": {},
   "outputs": [
    {
     "name": "stdout",
     "output_type": "stream",
     "text": [
      "{(('table_1', 'name'), ('table_2', 'name')): 0.75903887, (('table_1', 'headquarters country'), ('table_2', 'headquarters')): 0.5594052, (('table_1', 'number of employees'), ('table_2', 'employeesSize')): 0.39722574, (('table_1', 'company website'), ('table_2', 'websiteList/0')): 0.34386036, (('table_1', 'company website'), ('table_2', 'websiteList/1')): 0.34386036, (('table_1', 'company website'), ('table_2', 'websiteList/2')): 0.34386036, (('table_1', 'company website'), ('table_2', 'websiteList/3')): 0.34386036, (('table_1', 'company website'), ('table_2', 'websiteList/4')): 0.34386036, (('table_1', 'company website'), ('table_2', 'websiteList/5')): 0.34386036, (('table_1', 'company website'), ('table_2', 'websiteList/6')): 0.34386036, (('table_1', 'company website'), ('table_2', 'websiteList/7')): 0.34386036, (('table_1', 'company website'), ('table_2', 'websiteList/8')): 0.34386036, (('table_1', 'company website'), ('table_2', 'websiteList/9')): 0.34386036, (('table_1', 'business sector'), ('table_2', 'happinessScore')): 0.24535617, (('table_1', 'isin code'), ('table_2', 'id')): 0.23081312}\n"
     ]
    }
   ],
   "source": [
    "# Load data using pandas\n",
    "table_name_list = [\"aziende.csv\", \"companies-1.1.csv\", \"indeed.csv\", \"kpopfandom-companies.csv\",\n",
    "                   \"kpopping-companies.csv\", \"lseg2018.csv\", \"Scarano-companies-finance.yahoo.com-1.csv\",\n",
    "                   \"Scarano-companies-investing.com-1.csv\", \"yelp.csv\", \"companies-2.1.csv\", \"ftCompanies2018.csv\"]\n",
    "dfs = stream(table_name_list).map(lambda x: \"sources/\" + x).map(lambda x: pd.read_csv(x)).toList()"
   ]
  },
  {
   "cell_type": "code",
   "execution_count": null,
   "metadata": {},
   "outputs": [],
   "source": [
    "\n",
    "\n",
    "# Instantiate matcher and run\n",
    "matcher = Coma(0, \"COMA_OPT\")\n",
    "matches = valentine_match(dfs[1], dfs[2], matcher)\n",
    "\n",
    "\n",
    "print(matches)\n",
    "\n"
   ]
  }
 ],
 "metadata": {
  "kernelspec": {
   "display_name": "Python 3",
   "language": "python",
   "name": "python3"
  },
  "language_info": {
   "codemirror_mode": {
    "name": "ipython",
    "version": 3
   },
   "file_extension": ".py",
   "mimetype": "text/x-python",
   "name": "python",
   "nbconvert_exporter": "python",
   "pygments_lexer": "ipython3",
   "version": "3.8.5"
  }
 },
 "nbformat": 4,
 "nbformat_minor": 4
}
