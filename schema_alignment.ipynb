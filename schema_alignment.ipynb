{
  "cells": [
    {
      "cell_type": "markdown",
      "metadata": {
        "id": "view-in-github",
        "colab_type": "text"
      },
      "source": [
        "<a href=\"https://colab.research.google.com/github/a-vitale/Homework4-IDD/blob/main/schema_alignment.ipynb\" target=\"_parent\"><img src=\"https://colab.research.google.com/assets/colab-badge.svg\" alt=\"Open In Colab\"/></a>"
      ]
    },
    {
      "cell_type": "code",
      "execution_count": 1,
      "metadata": {
        "colab": {
          "base_uri": "https://localhost:8080/",
          "height": 1000
        },
        "id": "N3M4Gn1sUovF",
        "outputId": "436926d9-1f6e-4601-c651-c74530f55f98"
      },
      "outputs": [
        {
          "output_type": "stream",
          "name": "stdout",
          "text": [
            "Collecting valentine\n",
            "  Downloading valentine-0.1.4.tar.gz (38.2 MB)\n",
            "\u001b[K     |████████████████████████████████| 38.2 MB 1.2 MB/s \n",
            "\u001b[?25hCollecting numpy<2.0,>=1.21\n",
            "  Downloading numpy-1.21.5-cp37-cp37m-manylinux_2_12_x86_64.manylinux2010_x86_64.whl (15.7 MB)\n",
            "\u001b[K     |████████████████████████████████| 15.7 MB 130 kB/s \n",
            "\u001b[?25hCollecting scipy<2.0,>=1.7\n",
            "  Downloading scipy-1.7.3-cp37-cp37m-manylinux_2_12_x86_64.manylinux2010_x86_64.whl (38.1 MB)\n",
            "\u001b[K     |████████████████████████████████| 38.1 MB 1.3 MB/s \n",
            "\u001b[?25hRequirement already satisfied: pandas<1.4,>=1.3 in /usr/local/lib/python3.7/dist-packages (from valentine) (1.3.5)\n",
            "Collecting nltk<3.7,>=3.6\n",
            "  Downloading nltk-3.6.7-py3-none-any.whl (1.5 MB)\n",
            "\u001b[K     |████████████████████████████████| 1.5 MB 67.0 MB/s \n",
            "\u001b[?25hCollecting snakecase<2.0,>=1.0\n",
            "  Downloading snakecase-1.0.1.tar.gz (1.8 kB)\n",
            "Collecting anytree<2.9,>=2.8\n",
            "  Downloading anytree-2.8.0-py2.py3-none-any.whl (41 kB)\n",
            "\u001b[K     |████████████████████████████████| 41 kB 545 kB/s \n",
            "\u001b[?25hCollecting six<1.17,>=1.16\n",
            "  Downloading six-1.16.0-py2.py3-none-any.whl (11 kB)\n",
            "Collecting strsim==0.0.3\n",
            "  Downloading strsim-0.0.3-py3-none-any.whl (42 kB)\n",
            "\u001b[K     |████████████████████████████████| 42 kB 978 kB/s \n",
            "\u001b[?25hRequirement already satisfied: networkx<2.7,>=2.6 in /usr/local/lib/python3.7/dist-packages (from valentine) (2.6.3)\n",
            "Collecting chardet<5.0.0,>=4.0.0\n",
            "  Downloading chardet-4.0.0-py2.py3-none-any.whl (178 kB)\n",
            "\u001b[K     |████████████████████████████████| 178 kB 47.6 MB/s \n",
            "\u001b[?25hCollecting python-Levenshtein==0.12.2\n",
            "  Downloading python-Levenshtein-0.12.2.tar.gz (50 kB)\n",
            "\u001b[K     |████████████████████████████████| 50 kB 5.7 MB/s \n",
            "\u001b[?25hCollecting PuLP<2.6,>=2.5.1\n",
            "  Downloading PuLP-2.5.1-py3-none-any.whl (41.2 MB)\n",
            "\u001b[K     |████████████████████████████████| 41.2 MB 1.4 MB/s \n",
            "\u001b[?25hRequirement already satisfied: pyemd==0.5.1 in /usr/local/lib/python3.7/dist-packages (from valentine) (0.5.1)\n",
            "Requirement already satisfied: python-dateutil<2.9,>=2.8 in /usr/local/lib/python3.7/dist-packages (from valentine) (2.8.2)\n",
            "Requirement already satisfied: setuptools in /usr/local/lib/python3.7/dist-packages (from python-Levenshtein==0.12.2->valentine) (57.4.0)\n",
            "Collecting regex>=2021.8.3\n",
            "  Downloading regex-2022.1.18-cp37-cp37m-manylinux_2_17_x86_64.manylinux2014_x86_64.whl (748 kB)\n",
            "\u001b[K     |████████████████████████████████| 748 kB 51.0 MB/s \n",
            "\u001b[?25hRequirement already satisfied: tqdm in /usr/local/lib/python3.7/dist-packages (from nltk<3.7,>=3.6->valentine) (4.62.3)\n",
            "Requirement already satisfied: click in /usr/local/lib/python3.7/dist-packages (from nltk<3.7,>=3.6->valentine) (7.1.2)\n",
            "Requirement already satisfied: joblib in /usr/local/lib/python3.7/dist-packages (from nltk<3.7,>=3.6->valentine) (1.1.0)\n",
            "Requirement already satisfied: pytz>=2017.3 in /usr/local/lib/python3.7/dist-packages (from pandas<1.4,>=1.3->valentine) (2018.9)\n",
            "Building wheels for collected packages: valentine, python-Levenshtein, snakecase\n",
            "  Building wheel for valentine (setup.py) ... \u001b[?25l\u001b[?25hdone\n",
            "  Created wheel for valentine: filename=valentine-0.1.4-py3-none-any.whl size=38211899 sha256=be283b462d4e268037575039b4833cafa6667920ea61faad3ab056e6c041050f\n",
            "  Stored in directory: /root/.cache/pip/wheels/ab/d3/71/3e0faf3d6e117ec29eed2038f730a077796f06b68c36e50e4e\n",
            "  Building wheel for python-Levenshtein (setup.py) ... \u001b[?25l\u001b[?25hdone\n",
            "  Created wheel for python-Levenshtein: filename=python_Levenshtein-0.12.2-cp37-cp37m-linux_x86_64.whl size=149868 sha256=8989324e2a33a7f0e54342ed505b27c957b0db3bb764c64cbabb884a284b700d\n",
            "  Stored in directory: /root/.cache/pip/wheels/05/5f/ca/7c4367734892581bb5ff896f15027a932c551080b2abd3e00d\n",
            "  Building wheel for snakecase (setup.py) ... \u001b[?25l\u001b[?25hdone\n",
            "  Created wheel for snakecase: filename=snakecase-1.0.1-py3-none-any.whl size=1983 sha256=8270a203a835791f3462fde70c1e89d8f19ad8fe2a01c14e663898a20209db09\n",
            "  Stored in directory: /root/.cache/pip/wheels/b2/36/69/a94845de7cd785dcc5018d71a70331ba650578eb3c30a897ef\n",
            "Successfully built valentine python-Levenshtein snakecase\n",
            "Installing collected packages: six, regex, numpy, strsim, snakecase, scipy, python-Levenshtein, PuLP, nltk, chardet, anytree, valentine\n",
            "  Attempting uninstall: six\n",
            "    Found existing installation: six 1.15.0\n",
            "    Uninstalling six-1.15.0:\n",
            "      Successfully uninstalled six-1.15.0\n",
            "  Attempting uninstall: regex\n",
            "    Found existing installation: regex 2019.12.20\n",
            "    Uninstalling regex-2019.12.20:\n",
            "      Successfully uninstalled regex-2019.12.20\n",
            "  Attempting uninstall: numpy\n",
            "    Found existing installation: numpy 1.19.5\n",
            "    Uninstalling numpy-1.19.5:\n",
            "      Successfully uninstalled numpy-1.19.5\n",
            "  Attempting uninstall: scipy\n",
            "    Found existing installation: scipy 1.4.1\n",
            "    Uninstalling scipy-1.4.1:\n",
            "      Successfully uninstalled scipy-1.4.1\n",
            "  Attempting uninstall: nltk\n",
            "    Found existing installation: nltk 3.2.5\n",
            "    Uninstalling nltk-3.2.5:\n",
            "      Successfully uninstalled nltk-3.2.5\n",
            "  Attempting uninstall: chardet\n",
            "    Found existing installation: chardet 3.0.4\n",
            "    Uninstalling chardet-3.0.4:\n",
            "      Successfully uninstalled chardet-3.0.4\n",
            "\u001b[31mERROR: pip's dependency resolver does not currently take into account all the packages that are installed. This behaviour is the source of the following dependency conflicts.\n",
            "yellowbrick 1.3.post1 requires numpy<1.20,>=1.16.0, but you have numpy 1.21.5 which is incompatible.\n",
            "requests 2.23.0 requires chardet<4,>=3.0.2, but you have chardet 4.0.0 which is incompatible.\n",
            "google-colab 1.0.0 requires six~=1.15.0, but you have six 1.16.0 which is incompatible.\n",
            "datascience 0.10.6 requires folium==0.2.1, but you have folium 0.8.3 which is incompatible.\n",
            "albumentations 0.1.12 requires imgaug<0.2.7,>=0.2.5, but you have imgaug 0.2.9 which is incompatible.\u001b[0m\n",
            "Successfully installed PuLP-2.5.1 anytree-2.8.0 chardet-4.0.0 nltk-3.6.7 numpy-1.21.5 python-Levenshtein-0.12.2 regex-2022.1.18 scipy-1.7.3 six-1.16.0 snakecase-1.0.1 strsim-0.0.3 valentine-0.1.4\n"
          ]
        },
        {
          "output_type": "display_data",
          "data": {
            "application/vnd.colab-display-data+json": {
              "pip_warning": {
                "packages": [
                  "numpy",
                  "six"
                ]
              }
            }
          },
          "metadata": {}
        },
        {
          "output_type": "stream",
          "name": "stdout",
          "text": [
            "Collecting pyxtension\n",
            "  Downloading pyxtension-1.13.16-py3-none-any.whl (27 kB)\n",
            "Collecting pydantic>=1.6.1\n",
            "  Downloading pydantic-1.9.0-cp37-cp37m-manylinux_2_17_x86_64.manylinux2014_x86_64.whl (10.9 MB)\n",
            "\u001b[K     |████████████████████████████████| 10.9 MB 10.6 MB/s \n",
            "\u001b[?25hRequirement already satisfied: tblib>=1.7.0 in /usr/local/lib/python3.7/dist-packages (from pyxtension) (1.7.0)\n",
            "Requirement already satisfied: tqdm>=4.41.1 in /usr/local/lib/python3.7/dist-packages (from pyxtension) (4.62.3)\n",
            "Requirement already satisfied: typing-extensions>=3.7.4.3 in /usr/local/lib/python3.7/dist-packages (from pydantic>=1.6.1->pyxtension) (3.10.0.2)\n",
            "Installing collected packages: pydantic, pyxtension\n",
            "Successfully installed pydantic-1.9.0 pyxtension-1.13.16\n",
            "Found existing installation: pandas 1.3.5\n",
            "Uninstalling pandas-1.3.5:\n",
            "  Would remove:\n",
            "    /usr/local/lib/python3.7/dist-packages/pandas-1.3.5.dist-info/*\n",
            "    /usr/local/lib/python3.7/dist-packages/pandas/*\n",
            "Proceed (y/n)? y\n",
            "  Successfully uninstalled pandas-1.3.5\n",
            "Collecting pandas==1.3.0\n",
            "  Downloading pandas-1.3.0-cp37-cp37m-manylinux_2_5_x86_64.manylinux1_x86_64.whl (10.8 MB)\n",
            "\u001b[K     |████████████████████████████████| 10.8 MB 6.7 MB/s \n",
            "\u001b[?25hRequirement already satisfied: python-dateutil>=2.7.3 in /usr/local/lib/python3.7/dist-packages (from pandas==1.3.0) (2.8.2)\n",
            "Requirement already satisfied: numpy>=1.17.3 in /usr/local/lib/python3.7/dist-packages (from pandas==1.3.0) (1.21.5)\n",
            "Requirement already satisfied: pytz>=2017.3 in /usr/local/lib/python3.7/dist-packages (from pandas==1.3.0) (2018.9)\n",
            "Requirement already satisfied: six>=1.5 in /usr/local/lib/python3.7/dist-packages (from python-dateutil>=2.7.3->pandas==1.3.0) (1.16.0)\n",
            "Installing collected packages: pandas\n",
            "\u001b[31mERROR: pip's dependency resolver does not currently take into account all the packages that are installed. This behaviour is the source of the following dependency conflicts.\n",
            "google-colab 1.0.0 requires six~=1.15.0, but you have six 1.16.0 which is incompatible.\u001b[0m\n",
            "Successfully installed pandas-1.3.0\n"
          ]
        },
        {
          "output_type": "display_data",
          "data": {
            "application/vnd.colab-display-data+json": {
              "pip_warning": {
                "packages": [
                  "pandas"
                ]
              }
            }
          },
          "metadata": {}
        }
      ],
      "source": [
        "!pip install valentine\n",
        "!pip install pyxtension\n",
        "!pip uninstall pandas\n",
        "!pip install pandas==1.3.0"
      ]
    },
    {
      "cell_type": "code",
      "execution_count": 2,
      "metadata": {
        "id": "EhFrNdm-UovJ"
      },
      "outputs": [],
      "source": [
        "import pandas as pd\n",
        "import pyxtension.streams\n",
        "#from pandas._typing import CompressionOptions\n",
        "from valentine import valentine_match, valentine_metrics\n",
        "from valentine.algorithms import Coma\n",
        "from pyxtension.streams import stream"
      ]
    },
    {
      "cell_type": "code",
      "execution_count": 14,
      "metadata": {
        "id": "y9utiHjxUovJ"
      },
      "outputs": [],
      "source": [
        "# Load data using pandas\n",
        "table_name_list = [\"aziende.csv\", \"companies-1.1.csv\", \"indeed.csv\", \"lseg2018.csv\", \"Scarano-companies-finance.yahoo.com.csv\",\n",
        "                   \"Scarano-companies-investing.com-1.csv\", \"yelp.csv\", \"companies-2.1.csv\", \"ftCompanies2018.csv\"]\n",
        "dfs = stream(table_name_list).map(lambda x: \"sources/\" + x).map(lambda x: pd.read_csv(x)).toList()\n",
        "#dfs = []\n",
        "#for table in table_name_list:\n",
        "#  print(table)\n",
        "#  dfs.append(pd.read_csv(\"sources/\" + table))\n",
        "#dfs[7] = dfs[7].drop([\"Unnamed: 0\",\"Unnamed: 0.1\"], axis=1)\n",
        "#dfs[6] = dfs[6].drop([\"Unnamed: 0\",\"Unnamed: 0.1\"], axis=1)\n",
        "for df in dfs:\n",
        "  df.columns = df.columns.str.lower()"
      ]
    },
    {
      "cell_type": "code",
      "execution_count": 22,
      "metadata": {
        "id": "Q5wLRCbWUovK"
      },
      "outputs": [],
      "source": [
        "\n",
        "\n",
        "# Instantiate matcher and run\n",
        "matcher = Coma(0, \"COMA_OPT\")\n",
        "#matches = valentine_match(dfs[2], dfs[5], matcher)\n",
        "\n",
        "\n",
        "# funzione che crea la risultante \n",
        "def createResultTable(df1, df2):\n",
        "  result_table = pd.DataFrame()\n",
        "  matches = valentine_match(df1, df2, matcher)\n",
        "  for key in matches.keys():\n",
        "    if matches[key] >= 0.479:\n",
        "      # renaming columns that match\n",
        "      df2 = df2.rename(columns = {key[1][1] : key[0][1]})\n",
        "  result_table = pd.concat([df1, df2])\n",
        "  return result_table\n",
        "\n",
        "# funzione che crea tabella finale\n",
        "def createFinalTable():\n",
        "  final_table = dfs[0]\n",
        "  for i in range (1, 9):\n",
        "    final_table = createResultTable(final_table, dfs[i])\n",
        "  return final_table\n",
        "\n",
        "\n",
        "final_table = createFinalTable()\n"
      ]
    },
    {
      "cell_type": "code",
      "execution_count": 23,
      "metadata": {
        "id": "hPSxEn80UovN"
      },
      "outputs": [],
      "source": [
        "final_table.to_csv(\"final.csv\")"
      ]
    }
  ],
  "metadata": {
    "colab": {
      "collapsed_sections": [],
      "name": "schema_alignment.ipynb",
      "provenance": [],
      "include_colab_link": true
    },
    "kernelspec": {
      "display_name": "Python 3",
      "language": "python",
      "name": "python3"
    },
    "language_info": {
      "codemirror_mode": {
        "name": "ipython",
        "version": 3
      },
      "file_extension": ".py",
      "mimetype": "text/x-python",
      "name": "python",
      "nbconvert_exporter": "python",
      "pygments_lexer": "ipython3",
      "version": "3.8.8"
    }
  },
  "nbformat": 4,
  "nbformat_minor": 0
}