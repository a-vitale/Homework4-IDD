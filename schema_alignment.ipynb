{
  "cells": [
    {
      "cell_type": "markdown",
      "metadata": {
        "id": "view-in-github",
        "colab_type": "text"
      },
      "source": [
        "<a href=\"https://colab.research.google.com/github/a-vitale/Homework4-IDD/blob/main/schema_alignment.ipynb\" target=\"_parent\"><img src=\"https://colab.research.google.com/assets/colab-badge.svg\" alt=\"Open In Colab\"/></a>"
      ]
    },
    {
      "cell_type": "code",
      "execution_count": 12,
      "metadata": {
        "colab": {
          "base_uri": "https://localhost:8080/"
        },
        "id": "N3M4Gn1sUovF",
        "outputId": "5701ef98-f77c-4cf4-df47-ffcfccf9fead"
      },
      "outputs": [
        {
          "output_type": "stream",
          "name": "stdout",
          "text": [
            "Requirement already satisfied: valentine in /usr/local/lib/python3.7/dist-packages (0.1.4)\n",
            "Requirement already satisfied: pandas<1.4,>=1.3 in /usr/local/lib/python3.7/dist-packages (from valentine) (1.3.5)\n",
            "Requirement already satisfied: PuLP<2.6,>=2.5.1 in /usr/local/lib/python3.7/dist-packages (from valentine) (2.5.1)\n",
            "Requirement already satisfied: scipy<2.0,>=1.7 in /usr/local/lib/python3.7/dist-packages (from valentine) (1.7.3)\n",
            "Requirement already satisfied: chardet<5.0.0,>=4.0.0 in /usr/local/lib/python3.7/dist-packages (from valentine) (4.0.0)\n",
            "Requirement already satisfied: python-Levenshtein==0.12.2 in /usr/local/lib/python3.7/dist-packages (from valentine) (0.12.2)\n",
            "Requirement already satisfied: numpy<2.0,>=1.21 in /usr/local/lib/python3.7/dist-packages (from valentine) (1.21.5)\n",
            "Requirement already satisfied: nltk<3.7,>=3.6 in /usr/local/lib/python3.7/dist-packages (from valentine) (3.6.7)\n",
            "Requirement already satisfied: six<1.17,>=1.16 in /usr/local/lib/python3.7/dist-packages (from valentine) (1.16.0)\n",
            "Requirement already satisfied: python-dateutil<2.9,>=2.8 in /usr/local/lib/python3.7/dist-packages (from valentine) (2.8.2)\n",
            "Requirement already satisfied: anytree<2.9,>=2.8 in /usr/local/lib/python3.7/dist-packages (from valentine) (2.8.0)\n",
            "Requirement already satisfied: pyemd==0.5.1 in /usr/local/lib/python3.7/dist-packages (from valentine) (0.5.1)\n",
            "Requirement already satisfied: snakecase<2.0,>=1.0 in /usr/local/lib/python3.7/dist-packages (from valentine) (1.0.1)\n",
            "Requirement already satisfied: strsim==0.0.3 in /usr/local/lib/python3.7/dist-packages (from valentine) (0.0.3)\n",
            "Requirement already satisfied: networkx<2.7,>=2.6 in /usr/local/lib/python3.7/dist-packages (from valentine) (2.6.3)\n",
            "Requirement already satisfied: setuptools in /usr/local/lib/python3.7/dist-packages (from python-Levenshtein==0.12.2->valentine) (57.4.0)\n",
            "Requirement already satisfied: tqdm in /usr/local/lib/python3.7/dist-packages (from nltk<3.7,>=3.6->valentine) (4.62.3)\n",
            "Requirement already satisfied: joblib in /usr/local/lib/python3.7/dist-packages (from nltk<3.7,>=3.6->valentine) (1.1.0)\n",
            "Requirement already satisfied: regex>=2021.8.3 in /usr/local/lib/python3.7/dist-packages (from nltk<3.7,>=3.6->valentine) (2022.1.18)\n",
            "Requirement already satisfied: click in /usr/local/lib/python3.7/dist-packages (from nltk<3.7,>=3.6->valentine) (7.1.2)\n",
            "Requirement already satisfied: pytz>=2017.3 in /usr/local/lib/python3.7/dist-packages (from pandas<1.4,>=1.3->valentine) (2018.9)\n",
            "Collecting pyxtension\n",
            "  Downloading pyxtension-1.13.16-py3-none-any.whl (27 kB)\n",
            "Collecting pydantic>=1.6.1\n",
            "  Downloading pydantic-1.9.0-cp37-cp37m-manylinux_2_17_x86_64.manylinux2014_x86_64.whl (10.9 MB)\n",
            "\u001b[K     |████████████████████████████████| 10.9 MB 7.7 MB/s \n",
            "\u001b[?25hRequirement already satisfied: tblib>=1.7.0 in /usr/local/lib/python3.7/dist-packages (from pyxtension) (1.7.0)\n",
            "Requirement already satisfied: tqdm>=4.41.1 in /usr/local/lib/python3.7/dist-packages (from pyxtension) (4.62.3)\n",
            "Requirement already satisfied: typing-extensions>=3.7.4.3 in /usr/local/lib/python3.7/dist-packages (from pydantic>=1.6.1->pyxtension) (3.10.0.2)\n",
            "Installing collected packages: pydantic, pyxtension\n",
            "Successfully installed pydantic-1.9.0 pyxtension-1.13.16\n"
          ]
        }
      ],
      "source": [
        "!pip install valentine\n",
        "!pip install pyxtension"
      ]
    },
    {
      "cell_type": "code",
      "execution_count": 13,
      "metadata": {
        "id": "EhFrNdm-UovJ"
      },
      "outputs": [],
      "source": [
        "import pandas as pd\n",
        "import pyxtension.streams\n",
        "from valentine import valentine_match, valentine_metrics\n",
        "from valentine.algorithms import Coma\n",
        "from pyxtension.streams import stream"
      ]
    },
    {
      "cell_type": "code",
      "execution_count": 14,
      "metadata": {
        "id": "y9utiHjxUovJ"
      },
      "outputs": [],
      "source": [
        "# Load data using pandas\n",
        "table_name_list = [\"aziende.csv\", \"companies-1.1.csv\", \"indeed.csv\", \"kpopfandom-companies.csv\",\n",
        "                   \"kpopping-companies.csv\", \"lseg2018.csv\", \"Scarano-companies-finance.yahoo.com-1.csv\",\n",
        "                   \"Scarano-companies-investing.com-1.csv\", \"yelp.csv\", \"companies-2.1.csv\", \"ftCompanies2018.csv\"]\n",
        "dfs = stream(table_name_list).map(lambda x: \"sources/\" + x).map(lambda x: pd.read_csv(x)).toList()\n",
        "dfs[7] = dfs[7].drop([\"Unnamed: 0\",\"Unnamed: 0.1\"], axis=1)\n",
        "dfs[6] = dfs[6].drop([\"Unnamed: 0\",\"Unnamed: 0.1\"], axis=1)"
      ]
    },
    {
      "cell_type": "code",
      "execution_count": 23,
      "metadata": {
        "colab": {
          "base_uri": "https://localhost:8080/"
        },
        "id": "Q5wLRCbWUovK",
        "outputId": "9e01d877-6806-4d61-f6ec-275a1ae684f6"
      },
      "outputs": [
        {
          "output_type": "stream",
          "name": "stdout",
          "text": [
            "{(('table_1', 'website'), ('table_2', 'website')): 0.8054335, (('table_1', 'company_name'), ('table_2', 'name')): 0.4646289, (('table_1', 'country'), ('table_2', 'industry')): 0.41715643, (('table_1', 'sector'), ('table_2', 'ticker')): 0.31343842}\n"
          ]
        }
      ],
      "source": [
        "\n",
        "\n",
        "# Instantiate matcher and run\n",
        "matcher = Coma(0, \"COMA_OPT\")\n",
        "# matches = valentine_match(dfs[0], dfs[1], matcher)\n",
        "\n",
        "# funzione che crea la risultante \n",
        "def createResultTable(df1, df2):\n",
        "  result_table = pd.DataFrame()\n",
        "  matches = valentine_match(df1, df2, matcher)\n",
        "  for key in matches.keys():\n",
        "    if matches[key] >= 0.479:\n",
        "      result_table[key[0][1]] = pd.concat(df1[key[0][1]], df2[key[1][1]], axis=0)\n",
        "    else \n",
        "    \n",
        "\n",
        "# print(matches)\n",
        "\n"
      ]
    },
    {
      "cell_type": "code",
      "execution_count": 64,
      "metadata": {
        "colab": {
          "base_uri": "https://localhost:8080/",
          "height": 513
        },
        "id": "hPSxEn80UovN",
        "outputId": "34f1b385-c148-4123-e84c-f7ee66feafe9"
      },
      "outputs": [
        {
          "output_type": "stream",
          "name": "stdout",
          "text": [
            "{(('table_1', 'revenue_euros'), ('table_2', 'revenue_euros')): 0.94141257, (('table_1', 'company_name'), ('table_2', 'company_name')): 0.9407823, (('table_1', 'website'), ('table_2', 'website')): 0.93697906, (('table_1', 'country'), ('table_2', 'country')): 0.93697906, (('table_1', 'sector'), ('table_2', 'sector')): 0.9360554}\n",
            "1000\n",
            "1000\n",
            "2000\n"
          ]
        },
        {
          "output_type": "execute_result",
          "data": {
            "text/html": [
              "\n",
              "  <div id=\"df-937f503d-7561-40f4-9569-6accc0323876\">\n",
              "    <div class=\"colab-df-container\">\n",
              "      <div>\n",
              "<style scoped>\n",
              "    .dataframe tbody tr th:only-of-type {\n",
              "        vertical-align: middle;\n",
              "    }\n",
              "\n",
              "    .dataframe tbody tr th {\n",
              "        vertical-align: top;\n",
              "    }\n",
              "\n",
              "    .dataframe thead th {\n",
              "        text-align: right;\n",
              "    }\n",
              "</style>\n",
              "<table border=\"1\" class=\"dataframe\">\n",
              "  <thead>\n",
              "    <tr style=\"text-align: right;\">\n",
              "      <th></th>\n",
              "      <th>revenue_euros</th>\n",
              "      <th>company_name</th>\n",
              "      <th>website</th>\n",
              "      <th>country</th>\n",
              "      <th>sector</th>\n",
              "    </tr>\n",
              "  </thead>\n",
              "  <tbody>\n",
              "    <tr>\n",
              "      <th>0</th>\n",
              "      <td>40M to 50M</td>\n",
              "      <td>4EVER, SRO</td>\n",
              "      <td>www.4ever.cz</td>\n",
              "      <td>Czech Republic</td>\n",
              "      <td>Manufacturing</td>\n",
              "    </tr>\n",
              "    <tr>\n",
              "      <th>1</th>\n",
              "      <td>75M to 100M</td>\n",
              "      <td>77 Elektornika Kft</td>\n",
              "      <td>www.en.e77.hu</td>\n",
              "      <td>Hungary</td>\n",
              "      <td>Manufacturing</td>\n",
              "    </tr>\n",
              "    <tr>\n",
              "      <th>2</th>\n",
              "      <td>75M to 100M</td>\n",
              "      <td>7N A/S</td>\n",
              "      <td>www.7n.com</td>\n",
              "      <td>Denmark</td>\n",
              "      <td>IT Technology</td>\n",
              "    </tr>\n",
              "    <tr>\n",
              "      <th>3</th>\n",
              "      <td>30M to 40M</td>\n",
              "      <td>A. Mintikkis Farm</td>\n",
              "      <td>www.mintikkis.com</td>\n",
              "      <td>Cyprus</td>\n",
              "      <td>Wholesale</td>\n",
              "    </tr>\n",
              "    <tr>\n",
              "      <th>4</th>\n",
              "      <td>75M to 100M</td>\n",
              "      <td>Aarstiderne A/S</td>\n",
              "      <td>www.aarstiderne.com</td>\n",
              "      <td>Denmark</td>\n",
              "      <td>Consumer Services</td>\n",
              "    </tr>\n",
              "    <tr>\n",
              "      <th>...</th>\n",
              "      <td>...</td>\n",
              "      <td>...</td>\n",
              "      <td>...</td>\n",
              "      <td>...</td>\n",
              "      <td>...</td>\n",
              "    </tr>\n",
              "    <tr>\n",
              "      <th>995</th>\n",
              "      <td>4M</td>\n",
              "      <td>VICRIS</td>\n",
              "      <td>https://vicris.it</td>\n",
              "      <td>Italy</td>\n",
              "      <td>Chemicals</td>\n",
              "    </tr>\n",
              "    <tr>\n",
              "      <th>996</th>\n",
              "      <td>2M</td>\n",
              "      <td>FUTURECOM Austria GmbH</td>\n",
              "      <td>https://futurecom-world.com</td>\n",
              "      <td>Austria</td>\n",
              "      <td>Support Services</td>\n",
              "    </tr>\n",
              "    <tr>\n",
              "      <th>997</th>\n",
              "      <td>7M</td>\n",
              "      <td>Digital Republic Media Group</td>\n",
              "      <td>https://digitalrepublic.com</td>\n",
              "      <td>Germany</td>\n",
              "      <td>Advertising</td>\n",
              "    </tr>\n",
              "    <tr>\n",
              "      <th>998</th>\n",
              "      <td>3M</td>\n",
              "      <td>Jorge A. GÃ³mez Rebollo</td>\n",
              "      <td>https://n/a</td>\n",
              "      <td>Spain</td>\n",
              "      <td>Restaurants</td>\n",
              "    </tr>\n",
              "    <tr>\n",
              "      <th>999</th>\n",
              "      <td>1M</td>\n",
              "      <td>Bioburger</td>\n",
              "      <td>https://bioburger.fr</td>\n",
              "      <td>France</td>\n",
              "      <td>Restaurants</td>\n",
              "    </tr>\n",
              "  </tbody>\n",
              "</table>\n",
              "<p>2000 rows × 5 columns</p>\n",
              "</div>\n",
              "      <button class=\"colab-df-convert\" onclick=\"convertToInteractive('df-937f503d-7561-40f4-9569-6accc0323876')\"\n",
              "              title=\"Convert this dataframe to an interactive table.\"\n",
              "              style=\"display:none;\">\n",
              "        \n",
              "  <svg xmlns=\"http://www.w3.org/2000/svg\" height=\"24px\"viewBox=\"0 0 24 24\"\n",
              "       width=\"24px\">\n",
              "    <path d=\"M0 0h24v24H0V0z\" fill=\"none\"/>\n",
              "    <path d=\"M18.56 5.44l.94 2.06.94-2.06 2.06-.94-2.06-.94-.94-2.06-.94 2.06-2.06.94zm-11 1L8.5 8.5l.94-2.06 2.06-.94-2.06-.94L8.5 2.5l-.94 2.06-2.06.94zm10 10l.94 2.06.94-2.06 2.06-.94-2.06-.94-.94-2.06-.94 2.06-2.06.94z\"/><path d=\"M17.41 7.96l-1.37-1.37c-.4-.4-.92-.59-1.43-.59-.52 0-1.04.2-1.43.59L10.3 9.45l-7.72 7.72c-.78.78-.78 2.05 0 2.83L4 21.41c.39.39.9.59 1.41.59.51 0 1.02-.2 1.41-.59l7.78-7.78 2.81-2.81c.8-.78.8-2.07 0-2.86zM5.41 20L4 18.59l7.72-7.72 1.47 1.35L5.41 20z\"/>\n",
              "  </svg>\n",
              "      </button>\n",
              "      \n",
              "  <style>\n",
              "    .colab-df-container {\n",
              "      display:flex;\n",
              "      flex-wrap:wrap;\n",
              "      gap: 12px;\n",
              "    }\n",
              "\n",
              "    .colab-df-convert {\n",
              "      background-color: #E8F0FE;\n",
              "      border: none;\n",
              "      border-radius: 50%;\n",
              "      cursor: pointer;\n",
              "      display: none;\n",
              "      fill: #1967D2;\n",
              "      height: 32px;\n",
              "      padding: 0 0 0 0;\n",
              "      width: 32px;\n",
              "    }\n",
              "\n",
              "    .colab-df-convert:hover {\n",
              "      background-color: #E2EBFA;\n",
              "      box-shadow: 0px 1px 2px rgba(60, 64, 67, 0.3), 0px 1px 3px 1px rgba(60, 64, 67, 0.15);\n",
              "      fill: #174EA6;\n",
              "    }\n",
              "\n",
              "    [theme=dark] .colab-df-convert {\n",
              "      background-color: #3B4455;\n",
              "      fill: #D2E3FC;\n",
              "    }\n",
              "\n",
              "    [theme=dark] .colab-df-convert:hover {\n",
              "      background-color: #434B5C;\n",
              "      box-shadow: 0px 1px 3px 1px rgba(0, 0, 0, 0.15);\n",
              "      filter: drop-shadow(0px 1px 2px rgba(0, 0, 0, 0.3));\n",
              "      fill: #FFFFFF;\n",
              "    }\n",
              "  </style>\n",
              "\n",
              "      <script>\n",
              "        const buttonEl =\n",
              "          document.querySelector('#df-937f503d-7561-40f4-9569-6accc0323876 button.colab-df-convert');\n",
              "        buttonEl.style.display =\n",
              "          google.colab.kernel.accessAllowed ? 'block' : 'none';\n",
              "\n",
              "        async function convertToInteractive(key) {\n",
              "          const element = document.querySelector('#df-937f503d-7561-40f4-9569-6accc0323876');\n",
              "          const dataTable =\n",
              "            await google.colab.kernel.invokeFunction('convertToInteractive',\n",
              "                                                     [key], {});\n",
              "          if (!dataTable) return;\n",
              "\n",
              "          const docLinkHtml = 'Like what you see? Visit the ' +\n",
              "            '<a target=\"_blank\" href=https://colab.research.google.com/notebooks/data_table.ipynb>data table notebook</a>'\n",
              "            + ' to learn more about interactive tables.';\n",
              "          element.innerHTML = '';\n",
              "          dataTable['output_type'] = 'display_data';\n",
              "          await google.colab.output.renderOutput(dataTable, element);\n",
              "          const docLink = document.createElement('div');\n",
              "          docLink.innerHTML = docLinkHtml;\n",
              "          element.appendChild(docLink);\n",
              "        }\n",
              "      </script>\n",
              "    </div>\n",
              "  </div>\n",
              "  "
            ],
            "text/plain": [
              "    revenue_euros  ...             sector\n",
              "0      40M to 50M  ...      Manufacturing\n",
              "1     75M to 100M  ...      Manufacturing\n",
              "2     75M to 100M  ...      IT Technology\n",
              "3      30M to 40M  ...          Wholesale\n",
              "4     75M to 100M  ...  Consumer Services\n",
              "..            ...  ...                ...\n",
              "995            4M  ...          Chemicals\n",
              "996            2M  ...   Support Services\n",
              "997            7M  ...        Advertising\n",
              "998            3M  ...        Restaurants\n",
              "999            1M  ...        Restaurants\n",
              "\n",
              "[2000 rows x 5 columns]"
            ]
          },
          "metadata": {},
          "execution_count": 64
        }
      ],
      "source": [
        "  matches = valentine_match(dfs[5], dfs[10], matcher)\n",
        "  result_table = pd.DataFrame()\n",
        "  print(matches)\n",
        "  for key in matches.keys():\n",
        "    if matches[key] >= 0.479:\n",
        "      result_table[key[0][1]] = pd.concat([dfs[5][key[0][1]], dfs[10][key[1][1]]], axis=0)\n",
        "  print(len(dfs[5].index))\n",
        "  print(len(dfs[10].index))\n",
        "  print(len(result_table.index))\n",
        "  result_table\n",
        "\n"
      ]
    },
    {
      "cell_type": "code",
      "source": [
        ""
      ],
      "metadata": {
        "id": "BJr_-3kvZq6E"
      },
      "execution_count": null,
      "outputs": []
    }
  ],
  "metadata": {
    "kernelspec": {
      "display_name": "Python 3",
      "language": "python",
      "name": "python3"
    },
    "language_info": {
      "codemirror_mode": {
        "name": "ipython",
        "version": 3
      },
      "file_extension": ".py",
      "mimetype": "text/x-python",
      "name": "python",
      "nbconvert_exporter": "python",
      "pygments_lexer": "ipython3",
      "version": "3.8.8"
    },
    "colab": {
      "name": "schema_alignment.ipynb",
      "provenance": [],
      "collapsed_sections": [],
      "include_colab_link": true
    }
  },
  "nbformat": 4,
  "nbformat_minor": 0
}